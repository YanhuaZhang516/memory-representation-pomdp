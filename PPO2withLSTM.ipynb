{
  "nbformat": 4,
  "nbformat_minor": 0,
  "metadata": {
    "colab": {
      "name": "PPO2withLSTM.ipynb",
      "provenance": [],
      "mount_file_id": "1XcJy0VzvImTe5v93pAQY4KKu5-IYUYo8",
      "authorship_tag": "ABX9TyMA03FTUjXxW70Oo9KQUjQg",
      "include_colab_link": true
    },
    "kernelspec": {
      "name": "python3",
      "display_name": "Python 3"
    },
    "language_info": {
      "name": "python"
    },
    "accelerator": "TPU"
  },
  "cells": [
    {
      "cell_type": "markdown",
      "metadata": {
        "id": "view-in-github",
        "colab_type": "text"
      },
      "source": [
        "<a href=\"https://colab.research.google.com/github/YanhuaZhang516/memory-representation-pomdp/blob/main/PPO2withLSTM.ipynb\" target=\"_parent\"><img src=\"https://colab.research.google.com/assets/colab-badge.svg\" alt=\"Open In Colab\"/></a>"
      ]
    },
    {
      "cell_type": "code",
      "metadata": {
        "id": "SnAjElYvvCHv",
        "colab": {
          "base_uri": "https://localhost:8080/",
          "height": 1000
        },
        "outputId": "63a7bcc8-1797-4a6d-e3ca-56d04e5a1038"
      },
      "source": [
        "# Stable Baselines only supports tensorflow 1.x for now\n",
        "%tensorflow_version 1.x\n",
        "!pip install stable-baselines[mpi]==2.10.0\n",
        "!apt install swig cmake libopenmpi-dev zlib1g-dev\n",
        "import stable_baselines\n",
        "stable_baselines.__version__"
      ],
      "execution_count": 1,
      "outputs": [
        {
          "output_type": "stream",
          "text": [
            "TensorFlow 1.x selected.\n",
            "Collecting stable-baselines[mpi]==2.10.0\n",
            "\u001b[?25l  Downloading https://files.pythonhosted.org/packages/e5/fe/db8159d4d79109c6c8942abe77c7ba6b6e008c32ae55870a35e73fa10db3/stable_baselines-2.10.0-py3-none-any.whl (248kB)\n",
            "\u001b[K     |████████████████████████████████| 256kB 6.0MB/s \n",
            "\u001b[?25hRequirement already satisfied: joblib in /usr/local/lib/python3.7/dist-packages (from stable-baselines[mpi]==2.10.0) (1.0.1)\n",
            "Requirement already satisfied: matplotlib in /usr/local/lib/python3.7/dist-packages (from stable-baselines[mpi]==2.10.0) (3.2.2)\n",
            "Requirement already satisfied: opencv-python in /usr/local/lib/python3.7/dist-packages (from stable-baselines[mpi]==2.10.0) (4.1.2.30)\n",
            "Requirement already satisfied: gym[atari,classic_control]>=0.11 in /usr/local/lib/python3.7/dist-packages (from stable-baselines[mpi]==2.10.0) (0.17.3)\n",
            "Requirement already satisfied: cloudpickle>=0.5.5 in /usr/local/lib/python3.7/dist-packages (from stable-baselines[mpi]==2.10.0) (1.3.0)\n",
            "Requirement already satisfied: numpy in /usr/local/lib/python3.7/dist-packages (from stable-baselines[mpi]==2.10.0) (1.19.5)\n",
            "Requirement already satisfied: pandas in /usr/local/lib/python3.7/dist-packages (from stable-baselines[mpi]==2.10.0) (1.1.5)\n",
            "Requirement already satisfied: scipy in /usr/local/lib/python3.7/dist-packages (from stable-baselines[mpi]==2.10.0) (1.4.1)\n",
            "Requirement already satisfied: mpi4py; extra == \"mpi\" in /tensorflow-1.15.2/python3.7 (from stable-baselines[mpi]==2.10.0) (3.0.3)\n",
            "Requirement already satisfied: cycler>=0.10 in /usr/local/lib/python3.7/dist-packages (from matplotlib->stable-baselines[mpi]==2.10.0) (0.10.0)\n",
            "Requirement already satisfied: kiwisolver>=1.0.1 in /usr/local/lib/python3.7/dist-packages (from matplotlib->stable-baselines[mpi]==2.10.0) (1.3.1)\n",
            "Requirement already satisfied: pyparsing!=2.0.4,!=2.1.2,!=2.1.6,>=2.0.1 in /usr/local/lib/python3.7/dist-packages (from matplotlib->stable-baselines[mpi]==2.10.0) (2.4.7)\n",
            "Requirement already satisfied: python-dateutil>=2.1 in /usr/local/lib/python3.7/dist-packages (from matplotlib->stable-baselines[mpi]==2.10.0) (2.8.1)\n",
            "Requirement already satisfied: pyglet<=1.5.0,>=1.4.0 in /usr/local/lib/python3.7/dist-packages (from gym[atari,classic_control]>=0.11->stable-baselines[mpi]==2.10.0) (1.5.0)\n",
            "Requirement already satisfied: Pillow; extra == \"atari\" in /usr/local/lib/python3.7/dist-packages (from gym[atari,classic_control]>=0.11->stable-baselines[mpi]==2.10.0) (7.1.2)\n",
            "Requirement already satisfied: atari-py~=0.2.0; extra == \"atari\" in /usr/local/lib/python3.7/dist-packages (from gym[atari,classic_control]>=0.11->stable-baselines[mpi]==2.10.0) (0.2.6)\n",
            "Requirement already satisfied: pytz>=2017.2 in /usr/local/lib/python3.7/dist-packages (from pandas->stable-baselines[mpi]==2.10.0) (2018.9)\n",
            "Requirement already satisfied: six in /usr/local/lib/python3.7/dist-packages (from cycler>=0.10->matplotlib->stable-baselines[mpi]==2.10.0) (1.15.0)\n",
            "Requirement already satisfied: future in /usr/local/lib/python3.7/dist-packages (from pyglet<=1.5.0,>=1.4.0->gym[atari,classic_control]>=0.11->stable-baselines[mpi]==2.10.0) (0.16.0)\n",
            "Installing collected packages: stable-baselines\n",
            "  Found existing installation: stable-baselines 2.2.1\n",
            "    Uninstalling stable-baselines-2.2.1:\n",
            "      Successfully uninstalled stable-baselines-2.2.1\n",
            "Successfully installed stable-baselines-2.10.0\n",
            "Reading package lists... Done\n",
            "Building dependency tree       \n",
            "Reading state information... Done\n",
            "zlib1g-dev is already the newest version (1:1.2.11.dfsg-0ubuntu2).\n",
            "zlib1g-dev set to manually installed.\n",
            "libopenmpi-dev is already the newest version (2.1.1-8).\n",
            "cmake is already the newest version (3.10.2-1ubuntu2.18.04.1).\n",
            "The following package was automatically installed and is no longer required:\n",
            "  libnvidia-common-460\n",
            "Use 'apt autoremove' to remove it.\n",
            "The following additional packages will be installed:\n",
            "  swig3.0\n",
            "Suggested packages:\n",
            "  swig-doc swig-examples swig3.0-examples swig3.0-doc\n",
            "The following NEW packages will be installed:\n",
            "  swig swig3.0\n",
            "0 upgraded, 2 newly installed, 0 to remove and 34 not upgraded.\n",
            "Need to get 1,100 kB of archives.\n",
            "After this operation, 5,822 kB of additional disk space will be used.\n",
            "Get:1 http://archive.ubuntu.com/ubuntu bionic/universe amd64 swig3.0 amd64 3.0.12-1 [1,094 kB]\n",
            "Get:2 http://archive.ubuntu.com/ubuntu bionic/universe amd64 swig amd64 3.0.12-1 [6,460 B]\n",
            "Fetched 1,100 kB in 1s (1,020 kB/s)\n",
            "Selecting previously unselected package swig3.0.\n",
            "(Reading database ... 160690 files and directories currently installed.)\n",
            "Preparing to unpack .../swig3.0_3.0.12-1_amd64.deb ...\n",
            "Unpacking swig3.0 (3.0.12-1) ...\n",
            "Selecting previously unselected package swig.\n",
            "Preparing to unpack .../swig_3.0.12-1_amd64.deb ...\n",
            "Unpacking swig (3.0.12-1) ...\n",
            "Setting up swig3.0 (3.0.12-1) ...\n",
            "Setting up swig (3.0.12-1) ...\n",
            "Processing triggers for man-db (2.8.3-2ubuntu0.1) ...\n",
            "WARNING:tensorflow:\n",
            "The TensorFlow contrib module will not be included in TensorFlow 2.0.\n",
            "For more information, please see:\n",
            "  * https://github.com/tensorflow/community/blob/master/rfcs/20180907-contrib-sunset.md\n",
            "  * https://github.com/tensorflow/addons\n",
            "  * https://github.com/tensorflow/io (for I/O related ops)\n",
            "If you depend on functionality not listed there, please file an issue.\n",
            "\n"
          ],
          "name": "stdout"
        },
        {
          "output_type": "execute_result",
          "data": {
            "application/vnd.google.colaboratory.intrinsic+json": {
              "type": "string"
            },
            "text/plain": [
              "'2.10.0'"
            ]
          },
          "metadata": {
            "tags": []
          },
          "execution_count": 1
        }
      ]
    },
    {
      "cell_type": "code",
      "metadata": {
        "id": "JH5knvfsUN3a"
      },
      "source": [
        "import matplotlib.pyplot as plt\n",
        "import seaborn as sns\n",
        "# sns test\n",
        "sns.set_style(\"darkgrid\")"
      ],
      "execution_count": 2,
      "outputs": []
    },
    {
      "cell_type": "code",
      "metadata": {
        "id": "oms4-VGTvWjN"
      },
      "source": [
        "from stable_baselines import PPO2\n",
        "from stable_baselines.common.policies import MlpPolicy\n",
        "from stable_baselines.common.policies import MlpLstmPolicy"
      ],
      "execution_count": 3,
      "outputs": []
    },
    {
      "cell_type": "code",
      "metadata": {
        "id": "hpZM7hExv-Yq"
      },
      "source": [
        "from stable_baselines.common.policies import *"
      ],
      "execution_count": 4,
      "outputs": []
    },
    {
      "cell_type": "code",
      "metadata": {
        "id": "ItZfbCN65jSZ",
        "colab": {
          "base_uri": "https://localhost:8080/"
        },
        "outputId": "dfaf7eaa-bf2c-4125-dedc-18cc691402d4"
      },
      "source": [
        "import tensorflow as tf\n",
        "from tensorflow.keras import Model\n",
        "from tensorflow.keras.layers import Input, Reshape,Embedding,LSTM,Lambda, Concatenate\n",
        "import tensorflow.keras as keras\n",
        "from keras.models import load_model"
      ],
      "execution_count": 5,
      "outputs": [
        {
          "output_type": "stream",
          "text": [
            "Using TensorFlow backend.\n"
          ],
          "name": "stderr"
        }
      ]
    },
    {
      "cell_type": "code",
      "metadata": {
        "id": "rlQUF36yKQCH"
      },
      "source": [
        "from tensorflow.python.framework.graph_util import convert_variables_to_constants\n",
        "from keras import backend as K\n",
        "from tensorflow.python.platform import gfile"
      ],
      "execution_count": 6,
      "outputs": []
    },
    {
      "cell_type": "code",
      "metadata": {
        "id": "ySUo6jdbLLOX"
      },
      "source": [
        "from gridworld2 import *\n",
        "from gridworldRNN import *"
      ],
      "execution_count": 7,
      "outputs": []
    },
    {
      "cell_type": "code",
      "metadata": {
        "id": "gNXllRHsKSl4"
      },
      "source": [
        "# load the lstm model\n",
        "def slice(x):\n",
        "  return x[0,:,:]\n",
        "\n",
        "\n",
        "def set_lstm(time_steps):\n",
        "  #set_session(session)\n",
        "\n",
        "  time_steps=time_steps\n",
        "  input=Input(shape=(time_steps,10),batch_size=1,name=\"input\")\n",
        "  output1=Embedding(35,60,name='embedding')(input)\n",
        "  output1 = Reshape((-1,600),name='reshape')(output1)\n",
        "  output2, final_memory_state, final_carry_state =(LSTM(units=50, return_sequences=True, return_state=True,name='lstm'))(output1)\n",
        "  output2 =Lambda(slice)(output2)\n",
        "  cell_state_hidden = Concatenate(axis=-1, name='concatenate')([final_carry_state,final_memory_state])\n",
        " \n",
        "  model= Model(inputs=input,outputs=[output2, cell_state_hidden] )\n",
        " \n",
        "  model.load_weights('lstm_weights.h5', by_name=True)\n",
        "  model._make_predict_function()\n",
        "  print(model.summary())\n",
        "\n",
        "  return model"
      ],
      "execution_count": 8,
      "outputs": []
    },
    {
      "cell_type": "code",
      "metadata": {
        "id": "9l2cHrV8Kjq1"
      },
      "source": [
        "# conver the keras model to .pb model , set the computation graph\n",
        "def freeze_session(session, keep_var_names=None, output_names=None, clear_devices=True):\n",
        "    \"\"\"\n",
        "    Freezes the state of a session into a pruned computation graph.\n",
        "\n",
        "    Creates a new computation graph where variable nodes are replaced by\n",
        "    constants taking their current value in the session. The new graph will be\n",
        "    pruned so subgraphs that are not necessary to compute the requested\n",
        "    outputs are removed.\n",
        "    @param session The TensorFlow session to be frozen.\n",
        "    @param keep_var_names A list of variable names that should not be frozen,\n",
        "                          or None to freeze all the variables in the graph.\n",
        "    @param output_names Names of the relevant graph outputs.\n",
        "    @param clear_devices Remove the device directives from the graph for better portability.\n",
        "    @return The frozen graph definition.\n",
        "    \"\"\"\n",
        "    from tensorflow.python.framework.graph_util import convert_variables_to_constants\n",
        "    graph = session.graph\n",
        "    with graph.as_default():\n",
        "        freeze_var_names = list(set(v.op.name for v in tf.global_variables()).difference(keep_var_names or []))\n",
        "        output_names = output_names or []\n",
        "        output_names += [v.op.name for v in tf.global_variables()]\n",
        "       \n",
        "        # Graph -> GraphDef ProtoBuf\n",
        "        input_graph_def = graph.as_graph_def()\n",
        "        if clear_devices:\n",
        "            for node in input_graph_def.node:\n",
        "                node.device = \"\"\n",
        "        frozen_graph = convert_variables_to_constants(session, input_graph_def,\n",
        "                                                      output_names, freeze_var_names)\n",
        "        return frozen_graph\n",
        "\n"
      ],
      "execution_count": 10,
      "outputs": []
    },
    {
      "cell_type": "code",
      "metadata": {
        "id": "q1WKUWhzgmwV"
      },
      "source": [
        "def generate_graph(time_steps):\n",
        "  # generate Lstm model(different with timesteps)\n",
        "  K.clear_session()\n",
        "  lstm_model_test = set_lstm(time_steps)\n",
        "  # freeze computaional graph\n",
        "  frozen_graph = freeze_session(K.get_session(),\n",
        "                              output_names=[out.op.name for out in lstm_model_test.outputs])\n",
        "  # save to the tf_model_{time_steps}.pb\n",
        "  tf.train.write_graph(frozen_graph,  \"model_{}\".format(time_steps),\"tf_model_{}.pb\".format(time_steps), as_text=False)\n",
        "\n"
      ],
      "execution_count": 11,
      "outputs": []
    },
    {
      "cell_type": "code",
      "metadata": {
        "colab": {
          "base_uri": "https://localhost:8080/"
        },
        "id": "284ReODxM0Rj",
        "outputId": "916852d2-4429-4491-c87c-b76d82ff97d0"
      },
      "source": [
        "generate_graph(1)\n",
        "generate_graph(128)"
      ],
      "execution_count": 12,
      "outputs": [
        {
          "output_type": "stream",
          "text": [
            "Model: \"model\"\n",
            "__________________________________________________________________________________________________\n",
            "Layer (type)                    Output Shape         Param #     Connected to                     \n",
            "==================================================================================================\n",
            "input (InputLayer)              [(1, 1, 10)]         0                                            \n",
            "__________________________________________________________________________________________________\n",
            "embedding (Embedding)           (1, 1, 10, 60)       2100        input[0][0]                      \n",
            "__________________________________________________________________________________________________\n",
            "reshape (Reshape)               (1, 1, 600)          0           embedding[0][0]                  \n",
            "__________________________________________________________________________________________________\n",
            "lstm (LSTM)                     [(1, 1, 50), (1, 50) 130200      reshape[0][0]                    \n",
            "__________________________________________________________________________________________________\n",
            "lambda (Lambda)                 (1, 50)              0           lstm[0][0]                       \n",
            "__________________________________________________________________________________________________\n",
            "concatenate (Concatenate)       (1, 100)             0           lstm[0][2]                       \n",
            "                                                                 lstm[0][1]                       \n",
            "==================================================================================================\n",
            "Total params: 132,300\n",
            "Trainable params: 132,300\n",
            "Non-trainable params: 0\n",
            "__________________________________________________________________________________________________\n",
            "None\n",
            "WARNING:tensorflow:From <ipython-input-10-a959bf8baa0a>:30: convert_variables_to_constants (from tensorflow.python.framework.graph_util_impl) is deprecated and will be removed in a future version.\n",
            "Instructions for updating:\n",
            "Use `tf.compat.v1.graph_util.convert_variables_to_constants`\n",
            "WARNING:tensorflow:From /tensorflow-1.15.2/python3.7/tensorflow_core/python/framework/graph_util_impl.py:277: extract_sub_graph (from tensorflow.python.framework.graph_util_impl) is deprecated and will be removed in a future version.\n",
            "Instructions for updating:\n",
            "Use `tf.compat.v1.graph_util.extract_sub_graph`\n",
            "INFO:tensorflow:Froze 4 variables.\n",
            "INFO:tensorflow:Converted 4 variables to const ops.\n",
            "Model: \"model\"\n",
            "__________________________________________________________________________________________________\n",
            "Layer (type)                    Output Shape         Param #     Connected to                     \n",
            "==================================================================================================\n",
            "input (InputLayer)              [(1, 128, 10)]       0                                            \n",
            "__________________________________________________________________________________________________\n",
            "embedding (Embedding)           (1, 128, 10, 60)     2100        input[0][0]                      \n",
            "__________________________________________________________________________________________________\n",
            "reshape (Reshape)               (1, 128, 600)        0           embedding[0][0]                  \n",
            "__________________________________________________________________________________________________\n",
            "lstm (LSTM)                     [(1, 128, 50), (1, 5 130200      reshape[0][0]                    \n",
            "__________________________________________________________________________________________________\n",
            "lambda (Lambda)                 (128, 50)            0           lstm[0][0]                       \n",
            "__________________________________________________________________________________________________\n",
            "concatenate (Concatenate)       (1, 100)             0           lstm[0][2]                       \n",
            "                                                                 lstm[0][1]                       \n",
            "==================================================================================================\n",
            "Total params: 132,300\n",
            "Trainable params: 132,300\n",
            "Non-trainable params: 0\n",
            "__________________________________________________________________________________________________\n",
            "None\n",
            "INFO:tensorflow:Froze 4 variables.\n",
            "INFO:tensorflow:Converted 4 variables to const ops.\n"
          ],
          "name": "stdout"
        }
      ]
    },
    {
      "cell_type": "code",
      "metadata": {
        "id": "juamIaXaLt1V"
      },
      "source": [
        "class MLstmPolicytest(RecurrentActorCriticPolicy):\n",
        "\n",
        "    \"\"\"\n",
        "    Policy object that implements actor critic, using LSTMs.\n",
        "    :param sess: (TensorFlow session) The current TensorFlow session\n",
        "    :param ob_space: (Gym Space) The observation space of the environment\n",
        "    :param ac_space: (Gym Space) The action space of the environment\n",
        "    :param n_env: (int) The number of environments to run\n",
        "    :param n_steps: (int) The number of steps to run for each environment\n",
        "    :param n_batch: (int) The number of batch to run (n_envs * n_steps)\n",
        "    :param n_lstm: (int) The number of LSTM cells (for recurrent policies)\n",
        "    :param reuse: (bool) If the policy is reusable or not\n",
        "    :param layers: ([int]) The size of the Neural network before the LSTM layer  (if None, default to [64, 64])\n",
        "    :param net_arch: (list) Specification of the actor-critic policy network architecture. Notation similar to the\n",
        "        format described in mlp_extractor but with additional support for a 'lstm' entry in the shared network part.\n",
        "    :param act_fun: (tf.func) the activation function to use in the neural network.\n",
        "    :param cnn_extractor: (function (TensorFlow Tensor, ``**kwargs``): (TensorFlow Tensor)) the CNN feature extraction\n",
        "    :param layer_norm: (bool) Whether or not to use layer normalizing LSTMs\n",
        "    :param feature_extraction: (str) The feature extraction type (\"cnn\" or \"mlp\")\n",
        "    :param kwargs: (dict) Extra keyword arguments for the nature CNN feature extraction\n",
        "    \"\"\"\n",
        "\n",
        "    recurrent = True\n",
        "    \n",
        "       \n",
        "\n",
        "    def __init__(self, sess, ob_space, ac_space, n_env, n_steps, n_batch, n_lstm=50, reuse=False, layers=None,\n",
        "                 net_arch=None, act_fun=tf.tanh, layer_norm=False, **kwargs):\n",
        "        # state_shape = [n_lstm * 2] dim because of the cell and hidden states of the LSTM\n",
        "        super(MLstmPolicytest, self).__init__(sess, ob_space, ac_space, n_env, n_steps, n_batch,\n",
        "                                         state_shape=(2 * n_lstm, ), reuse=reuse,\n",
        "                                         **kwargs)\n",
        "        \n",
        "\n",
        "        if net_arch is None:  # Legacy mode\n",
        "           \n",
        "            with tf.variable_scope(\"model\", reuse=reuse):\n",
        "               \n",
        "                obs_test = tf.cast(tf.reshape(self.obs_ph,[1,n_steps,10]), tf.float32)\n",
        "              \n",
        "                frozen_graph_filename=\"./model_{}/tf_model_{}.pb\".format(n_steps,n_steps)\n",
        "\n",
        "                with tf.gfile.GFile(frozen_graph_filename, \"rb\") as f:\n",
        "                  graph_def = sess.graph_def\n",
        "                  graph_def.ParseFromString(f.read())\n",
        "\n",
        "                # Then, we can use again a convenient built-in function to import a graph_def into the \n",
        "                # current default Graph\n",
        "                # with tf.Graph().as_default() as graph:\n",
        "                graph=sess.graph\n",
        "                with graph.as_default():\n",
        "\n",
        "                  tf.import_graph_def(\n",
        "                        graph_def, \n",
        "                        return_elements=None, \n",
        "                        name=\"prefix\", \n",
        "                        input_map={\"input:0\":obs_test},\n",
        "                        op_dict=None, \n",
        "                        producer_op_list=None)\n",
        "                \n",
        "                  \n",
        "                tf_output = graph.get_operations()[-3].name+':0'\n",
        "                \n",
        "                tf_cell_hidden = graph.get_operations()[-1].name+':0'\n",
        "                \n",
        "                rnn_output= graph.get_tensor_by_name(tf_output)\n",
        "              \n",
        "                self.snew = graph.get_tensor_by_name(tf_cell_hidden)\n",
        "               \n",
        "                value_fn = linear(rnn_output, 'vf', 1)\n",
        "              \n",
        "                self._proba_distribution, self._policy, self.q_value = \\\n",
        "                    self.pdtype.proba_distribution_from_latent(rnn_output, rnn_output)\n",
        "\n",
        "\n",
        "\n",
        "\n",
        "            self._value_fn = value_fn\n",
        "            \n",
        "            self._setup_init()\n",
        "          \n",
        "\n",
        "\n",
        "    def step(self, obs, state=None, mask=None, deterministic=False):\n",
        "   \n",
        "        if deterministic:\n",
        "            return self.sess.run([self.deterministic_action, self.value_flat, self.snew, self.neglogp],\n",
        "                                 {self.obs_ph: obs})\n",
        "        else:\n",
        "            return self.sess.run([self.action, self.value_flat, self.snew, self.neglogp],\n",
        "                                 {self.obs_ph: obs})\n",
        "\n",
        "    def proba_step(self, obs, state=None, mask=None):\n",
        "\n",
        "        return self.sess.run(self.policy_proba, {self.obs_ph: obs})\n",
        "    \n",
        "   \n",
        "    def value(self, obs, state=None, mask=None):\n",
        " \n",
        "        return self.sess.run(self.value_flat, {self.obs_ph: obs,self.states_ph: state, self.dones_ph: mask})\n"
      ],
      "execution_count": 13,
      "outputs": []
    },
    {
      "cell_type": "code",
      "metadata": {
        "id": "G-6dfM6dDSge"
      },
      "source": [
        "class MLstmPolicytest2(RecurrentActorCriticPolicy):\n",
        "\n",
        "    \"\"\"\n",
        "    Policy object that implements actor critic, using LSTMs.\n",
        "    :param sess: (TensorFlow session) The current TensorFlow session\n",
        "    :param ob_space: (Gym Space) The observation space of the environment\n",
        "    :param ac_space: (Gym Space) The action space of the environment\n",
        "    :param n_env: (int) The number of environments to run\n",
        "    :param n_steps: (int) The number of steps to run for each environment\n",
        "    :param n_batch: (int) The number of batch to run (n_envs * n_steps)\n",
        "    :param n_lstm: (int) The number of LSTM cells (for recurrent policies)\n",
        "    :param reuse: (bool) If the policy is reusable or not\n",
        "    :param layers: ([int]) The size of the Neural network before the LSTM layer  (if None, default to [64, 64])\n",
        "    :param net_arch: (list) Specification of the actor-critic policy network architecture. Notation similar to the\n",
        "        format described in mlp_extractor but with additional support for a 'lstm' entry in the shared network part.\n",
        "        it should be [dict(vf=[<value layer sizes>], pi=[<policy layer sizes>])], \n",
        "        for example: net_arch = [dict(vf=[256], pi=[16])]\n",
        "\n",
        "    :param act_fun: (tf.func) the activation function to use in the neural network.\n",
        "   \n",
        "  \n",
        "    :param kwargs: (dict) Extra keyword arguments for the nature CNN feature extraction\n",
        "    \"\"\"\n",
        "\n",
        "    recurrent = True\n",
        "    \n",
        "       \n",
        "\n",
        "    def __init__(self, sess, ob_space, ac_space, n_env, n_steps, n_batch, n_lstm=50, reuse=False, layers=None,\n",
        "                 net_arch=None, act_fun=tf.tanh, layer_norm=False, **kwargs):\n",
        "        # state_shape = [n_lstm * 2] dim because of the cell and hidden states of the LSTM\n",
        "        super(MLstmPolicytest2, self).__init__(sess, ob_space, ac_space, n_env, n_steps, n_batch,state_shape=(2 * n_lstm, ),\n",
        "                                          reuse=reuse,\n",
        "                                         **kwargs)\n",
        "        \n",
        "\n",
        "           \n",
        "        with tf.variable_scope(\"model\", reuse=reuse):\n",
        "            \n",
        "            obs_test = tf.cast(tf.reshape(self.obs_ph,[1,n_steps,10]), tf.float32)\n",
        "          \n",
        "            frozen_graph_filename=\"./model_{}/tf_model_{}.pb\".format(n_steps,n_steps)\n",
        "\n",
        "            with tf.gfile.GFile(frozen_graph_filename, \"rb\") as f:\n",
        "              graph_def = sess.graph_def\n",
        "              graph_def.ParseFromString(f.read())\n",
        "\n",
        "            # Then, we can use again a convenient built-in function to import a graph_def into the \n",
        "            # current default Graph\n",
        "            # with tf.Graph().as_default() as graph:\n",
        "            graph=sess.graph\n",
        "            with graph.as_default():\n",
        "\n",
        "              tf.import_graph_def(\n",
        "                    graph_def, \n",
        "                    return_elements=None, \n",
        "                    name=\"prefix\", \n",
        "                    input_map={\"input:0\":obs_test},\n",
        "                    op_dict=None, \n",
        "                    producer_op_list=None)\n",
        "            \n",
        "              \n",
        "            tf_output = graph.get_operations()[-3].name+':0'\n",
        "            \n",
        "            tf_cell_hidden = graph.get_operations()[-1].name+':0'\n",
        "            \n",
        "            rnn_output= graph.get_tensor_by_name(tf_output)\n",
        "          \n",
        "            self.snew = graph.get_tensor_by_name(tf_cell_hidden)\n",
        "            \n",
        "\n",
        "             # Legacy mode\n",
        "            if net_arch is None:\n",
        "\n",
        "              value_fn = linear(rnn_output, 'vf', 1)\n",
        "              self._proba_distribution, self._policy, self.q_value = \\\n",
        "                    self.pdtype.proba_distribution_from_latent(rnn_output, rnn_output)\n",
        "              \n",
        "              self._value_fn = value_fn\n",
        "            \n",
        "            else:\n",
        "\n",
        "              policy_only_layers = [] \n",
        "              value_only_layers = []\n",
        "              # the shared parts of network(through lstm)\n",
        "              latent= rnn_output\n",
        "\n",
        "              for idex, layer in enumerate(net_arch):\n",
        "                # Build the non shared parts of the network\n",
        "                if 'pi' in layer:\n",
        "                  assert isinstance(layer['pi'], list), \"Error: net_arch[-1]['pi'] must contain a list of integers.\"\n",
        "                  policy_only_layers = layer['pi']\n",
        "                                          \n",
        "                if 'vf' in layer:\n",
        "                    assert isinstance(layer['vf'], list), \"Error: net_arch[-1]['vf'] must contain a list of integers.\"                                    \n",
        "                    value_only_layers = layer['vf']\n",
        "              # From here on the network splits up in policy and value network\n",
        "\n",
        "              # build non-shared part of the policy-network\n",
        "              latent_policy = latent\n",
        "              for idx, pi_layer_size in enumerate(policy_only_layers):\n",
        "                assert isinstance(pi_layer_size, int), \"Error: net_arch[-1]['pi'] must only contain integers.\"\n",
        "                latent_policy = act_fun(\n",
        "                    linear(latent_policy, \"pi_fc{}\".format(idx), pi_layer_size, init_scale=np.sqrt(2)))\n",
        "              \n",
        "              # build non-shared part of the value-network\n",
        "              latent_value = latent\n",
        "              for idx, vf_layer_size in enumerate(value_only_layers):\n",
        "                assert isinstance(vf_layer_size, int), \"Error: net_arch[-1]['vf'] must only contain integers.\"\n",
        "                latent_value = act_fun(\n",
        "                    linear(latent_value, \"vf_fc{}\".format(idx), vf_layer_size, init_scale=np.sqrt(2)))\n",
        "\n",
        "              self._value_fn = linear(latent_value, 'vf', 1)\n",
        "              self._proba_distribution, self._policy, self.q_value = \\\n",
        "                    self.pdtype.proba_distribution_from_latent(latent_policy, latent_value)\n",
        "            self._setup_init()\n",
        "          \n",
        "\n",
        "\n",
        "    def step(self, obs, state=None, mask=None, deterministic=False):\n",
        "   \n",
        "        if deterministic:\n",
        "            return self.sess.run([self.deterministic_action, self.value_flat, self.snew, self.neglogp],\n",
        "                                 {self.obs_ph: obs})\n",
        "        else:\n",
        "            return self.sess.run([self.action, self.value_flat, self.snew, self.neglogp],\n",
        "                                 {self.obs_ph: obs})\n",
        "\n",
        "    def proba_step(self, obs, state=None, mask=None):\n",
        "\n",
        "        return self.sess.run(self.policy_proba, {self.obs_ph: obs})\n",
        "    \n",
        "   \n",
        "    def value(self, obs, state=None, mask=None):\n",
        " \n",
        "        return self.sess.run(self.value_flat, {self.obs_ph: obs,self.states_ph: state, self.dones_ph: mask})\n"
      ],
      "execution_count": 29,
      "outputs": []
    },
    {
      "cell_type": "code",
      "metadata": {
        "id": "0jyc-VDwMz0q"
      },
      "source": [
        "env1 = GridWorldPomdp(n_width =10,n_height=10,\n",
        "                       u_size=60,\n",
        "                      default_reward=-1,\n",
        "                      default_type= 0 ,\n",
        "                      max_episode_steps=20)\n",
        "env1.start= (2,2)\n",
        "env1.end= (5,6)\n",
        "# set the special reward for end\n",
        "env1.grids.set_reward(env1.end[0], env1.end[1],0)\n",
        "env1.refresh_setting()"
      ],
      "execution_count": 44,
      "outputs": []
    },
    {
      "cell_type": "code",
      "metadata": {
        "id": "FGz61YnSI21N"
      },
      "source": [
        "\n",
        "class MyLSTMPolicy(MLstmPolicytest2):\n",
        "  \"\"\"\n",
        "  for the default LstmPolicy :\n",
        "    n_lstm:(int) the number of LSTM cells (default = 256) the number of hidden neurons\n",
        "    layers:([int]) The size of the Neural network before the LSTM layer  (if None, default to [64, 64])\n",
        "    net_arch:(list) Specification of the actor-critic policy network architecture. Notation similar to the\n",
        "        format described in mlp_extractor but with additional support for a 'lstm' entry in the shared network part.\n",
        "  \"\"\"\n",
        "  def __init__(self, sess, ob_space, ac_space, n_env, n_steps, n_batch, layers=None, n_lstm=50, reuse=False, **_kwargs):\n",
        "        super().__init__(sess, ob_space, ac_space, n_env, n_steps, n_batch, n_lstm, layers, reuse,\n",
        "                         net_arch=[dict(vf=[64], pi=[64])],\n",
        "                         layer_norm=True, **_kwargs)"
      ],
      "execution_count": 75,
      "outputs": []
    },
    {
      "cell_type": "code",
      "metadata": {
        "id": "QAN0cCC9npYM"
      },
      "source": [
        "# net_arch=dict(vf=[300,64], pi=[300,64])\n",
        "model1 = PPO2(MyLSTMPolicy, env1, n_steps=128, learning_rate=1.5e-4, nminibatches=1)"
      ],
      "execution_count": 64,
      "outputs": []
    },
    {
      "cell_type": "code",
      "metadata": {
        "id": "ipyraM32vHVz"
      },
      "source": [
        "# net_arch=dict(vf=[64], pi=[64])\n",
        "model2= PPO2(MyLSTMPolicy, env1, n_steps=128, learning_rate=2.5e-4, nminibatches=1)"
      ],
      "execution_count": 82,
      "outputs": []
    },
    {
      "cell_type": "code",
      "metadata": {
        "id": "6NwcowstSDDo"
      },
      "source": [
        "# net_arch=dict(vf=[300,64], pi=[300,64])\n",
        "model3 = PPO2(MyLSTMPolicy, env1, n_steps=128, learning_rate=2.5e-4, nminibatches=1)"
      ],
      "execution_count": 72,
      "outputs": []
    },
    {
      "cell_type": "code",
      "metadata": {
        "id": "vD7joh5ySz3t"
      },
      "source": [
        "# net_arch=dict(vf=[64], pi=[64]) \n",
        "model4 = PPO2(MyLSTMPolicy, env1, n_steps=128, learning_rate=1.5e-4, nminibatches=1)"
      ],
      "execution_count": 76,
      "outputs": []
    },
    {
      "cell_type": "code",
      "metadata": {
        "id": "pXqGU3FgUDQx"
      },
      "source": [
        "# net_arch=dict(vf=[64], pi=[64]) \n",
        "model5 = PPO2(MyLSTMPolicy, env1, n_steps=128, learning_rate=3.0e-4, nminibatches=1)"
      ],
      "execution_count": 79,
      "outputs": []
    },
    {
      "cell_type": "code",
      "metadata": {
        "id": "Q477LKH8UnlD"
      },
      "source": [
        "# without net_arch\n",
        "model6 = PPO2(MLstmPolicytest2, env1, n_steps=128, nminibatches=1)"
      ],
      "execution_count": 84,
      "outputs": []
    },
    {
      "cell_type": "code",
      "metadata": {
        "id": "E2GoP3d66rDE"
      },
      "source": [
        "# add evaluation module\n",
        "def evaluate(model, num_episodes=100):\n",
        "    \"\"\"\n",
        "    Evaluate a RL agent\n",
        "    :param model: (BaseRLModel object) the RL Agent\n",
        "    :param num_episodes: (int) number of episodes to evaluate it\n",
        "    :return: (float) Mean reward for the last num_episodes\n",
        "    \"\"\"\n",
        "    # This function will only work for a single Environment\n",
        "    env = model.get_env()\n",
        "    all_episode_rewards = []\n",
        "    \n",
        "    for i in range(num_episodes):\n",
        "        episode_rewards = []\n",
        "        done = False  \n",
        "        t=0     \n",
        "        obs = env.reset()\n",
        "        while not done :\n",
        "            # _states are only useful when using LSTM policies\n",
        "            action, _states = model.predict(obs)\n",
        "            #print(\"without noise:\", action)\n",
        "            # here, action, rewards and dones are arrays\n",
        "            obs, reward, done, info = env.step(action)\n",
        "            #print(\"reward:\",reward)\n",
        "            episode_rewards.append(reward)\n",
        "            t+=1\n",
        "\n",
        "        all_episode_rewards.append(sum(episode_rewards))\n",
        "\n",
        "    mean_episode_reward = np.mean(all_episode_rewards)\n",
        "    print(\"Mean reward:\", mean_episode_reward, \"Num episodes:\", num_episodes)\n",
        "\n",
        "    return mean_episode_reward"
      ],
      "execution_count": 33,
      "outputs": []
    },
    {
      "cell_type": "code",
      "metadata": {
        "id": "_ZM5fwMuUmHA"
      },
      "source": [
        ""
      ],
      "execution_count": null,
      "outputs": []
    },
    {
      "cell_type": "code",
      "metadata": {
        "id": "uxpiuQ787DYy"
      },
      "source": [
        "def train_batch(model):\n",
        "  \n",
        "  reward=[]\n",
        "  for _ in range(10):\n",
        "    start_time = time.time()\n",
        "    model.learn(total_timesteps=1000)\n",
        "    x = evaluate(model,num_episodes=50)\n",
        "  \n",
        "    reward.append(x)\n",
        "   \n",
        "  return reward"
      ],
      "execution_count": 39,
      "outputs": []
    },
    {
      "cell_type": "code",
      "metadata": {
        "id": "5kiluXPYS3nv"
      },
      "source": [
        "def train_all(model,num):\n",
        "\n",
        "  # the reward before the train\n",
        "  rewards = [evaluate(model,num_episodes=50)]\n",
        "  \n",
        "  for _ in range(num):\n",
        "    # one batch for 10,000 steps\n",
        "    r = train_batch(model)\n",
        "    rewards+=r\n",
        "   \n",
        "  \n",
        "  return rewards"
      ],
      "execution_count": 60,
      "outputs": []
    },
    {
      "cell_type": "code",
      "metadata": {
        "id": "vLJgKna89XUQ"
      },
      "source": [
        "def reward_plot(reward):\n",
        "  x=np.linspace(0, 1000*(len(reward)),len(reward),endpoint=True)\n",
        "  plt.plot(x,reward,label='model1')\n",
        "\n",
        "def reward_plot_two(reward1,reward2):\n",
        "    if len(reward1)>len(reward2):num = len(reward2)\n",
        "    else:num = len(reward1)\n",
        "    \n",
        "    x1=np.linspace(0, 1000*len(reward1),len(reward1),endpoint=True)\n",
        "    x2=np.linspace(0, 1000*len(reward2),len(reward2),endpoint=True)\n",
        "    plt.plot(x1,reward1,label='model1')\n",
        "    plt.plot(x2,reward2)\n",
        "\n",
        "def reward_plot_all(rewards):\n",
        "  n = len(rewards)\n",
        "  x=np.linspace(0, 1000*(len(rewards[0])),len(rewards[0]),endpoint=True)\n",
        "  for _ in range(n):\n",
        "    plt.plot(x, rewards[_])"
      ],
      "execution_count": 37,
      "outputs": []
    },
    {
      "cell_type": "code",
      "metadata": {
        "colab": {
          "base_uri": "https://localhost:8080/"
        },
        "id": "e01e1t0knBrR",
        "outputId": "1be8b26a-1e72-40ab-e5cc-497efa3c83e6"
      },
      "source": [
        "reward1=train_all(model1,num=5)"
      ],
      "execution_count": 68,
      "outputs": [
        {
          "output_type": "stream",
          "text": [
            "Mean reward: -10.9875 Num episodes: 50\n",
            "Mean reward: -10.1725 Num episodes: 50\n",
            "Mean reward: -9.91 Num episodes: 50\n",
            "Mean reward: -9.8175 Num episodes: 50\n",
            "Mean reward: -9.5475 Num episodes: 50\n",
            "Mean reward: -10.3675 Num episodes: 50\n",
            "Mean reward: -11.27 Num episodes: 50\n",
            "Mean reward: -12.4375 Num episodes: 50\n",
            "Mean reward: -12.71 Num episodes: 50\n",
            "Mean reward: -12.72 Num episodes: 50\n",
            "Mean reward: -13.0225 Num episodes: 50\n",
            "Mean reward: -12.9425 Num episodes: 50\n",
            "Mean reward: -12.4725 Num episodes: 50\n",
            "Mean reward: -12.645 Num episodes: 50\n",
            "Mean reward: -12.88 Num episodes: 50\n",
            "Mean reward: -12.5025 Num episodes: 50\n",
            "Mean reward: -12.4975 Num episodes: 50\n",
            "Mean reward: -13.21 Num episodes: 50\n",
            "Mean reward: -14.215 Num episodes: 50\n",
            "Mean reward: -15.7575 Num episodes: 50\n",
            "Mean reward: -15.5575 Num episodes: 50\n",
            "Mean reward: -15.5375 Num episodes: 50\n",
            "Mean reward: -14.9425 Num episodes: 50\n",
            "Mean reward: -15.9925 Num episodes: 50\n",
            "Mean reward: -13.905 Num episodes: 50\n",
            "Mean reward: -14.865 Num episodes: 50\n",
            "Mean reward: -15.405 Num episodes: 50\n",
            "Mean reward: -15.4875 Num episodes: 50\n",
            "Mean reward: -14.7225 Num episodes: 50\n",
            "Mean reward: -14.625 Num episodes: 50\n",
            "Mean reward: -14.035 Num episodes: 50\n",
            "Mean reward: -13.92 Num episodes: 50\n",
            "Mean reward: -13.1825 Num episodes: 50\n",
            "Mean reward: -13.0825 Num episodes: 50\n",
            "Mean reward: -13.475 Num episodes: 50\n",
            "Mean reward: -13.885 Num episodes: 50\n",
            "Mean reward: -13.5325 Num episodes: 50\n",
            "Mean reward: -13.02 Num episodes: 50\n",
            "Mean reward: -12.6425 Num episodes: 50\n",
            "Mean reward: -13.06 Num episodes: 50\n",
            "Mean reward: -13.28 Num episodes: 50\n",
            "Mean reward: -13.3175 Num episodes: 50\n",
            "Mean reward: -13.125 Num episodes: 50\n",
            "Mean reward: -13.3775 Num episodes: 50\n",
            "Mean reward: -13.2725 Num episodes: 50\n",
            "Mean reward: -13.215 Num episodes: 50\n",
            "Mean reward: -13.1625 Num episodes: 50\n",
            "Mean reward: -12.8875 Num episodes: 50\n",
            "Mean reward: -13.1475 Num episodes: 50\n",
            "Mean reward: -14.82 Num episodes: 50\n",
            "Mean reward: -14.44 Num episodes: 50\n"
          ],
          "name": "stdout"
        }
      ]
    },
    {
      "cell_type": "code",
      "metadata": {
        "colab": {
          "base_uri": "https://localhost:8080/"
        },
        "id": "tkACunywRXBx",
        "outputId": "91d181ab-772e-42c6-eade-05759567e6aa"
      },
      "source": [
        "reward2 = train_all(model2,num=5)"
      ],
      "execution_count": 83,
      "outputs": [
        {
          "output_type": "stream",
          "text": [
            "Mean reward: -11.47 Num episodes: 50\n",
            "Mean reward: -11.26 Num episodes: 50\n",
            "Mean reward: -11.8375 Num episodes: 50\n",
            "Mean reward: -11.625 Num episodes: 50\n",
            "Mean reward: -11.78 Num episodes: 50\n",
            "Mean reward: -11.8725 Num episodes: 50\n",
            "Mean reward: -12.16 Num episodes: 50\n",
            "Mean reward: -11.685 Num episodes: 50\n",
            "Mean reward: -11.5575 Num episodes: 50\n",
            "Mean reward: -11.6925 Num episodes: 50\n",
            "Mean reward: -11.625 Num episodes: 50\n",
            "Mean reward: -11.595 Num episodes: 50\n",
            "Mean reward: -12.1675 Num episodes: 50\n",
            "Mean reward: -11.995 Num episodes: 50\n",
            "Mean reward: -11.89 Num episodes: 50\n",
            "Mean reward: -12.03 Num episodes: 50\n",
            "Mean reward: -12.0875 Num episodes: 50\n",
            "Mean reward: -12.315 Num episodes: 50\n",
            "Mean reward: -12.33 Num episodes: 50\n",
            "Mean reward: -12.23 Num episodes: 50\n",
            "Mean reward: -11.8975 Num episodes: 50\n",
            "Mean reward: -12.615 Num episodes: 50\n",
            "Mean reward: -12.2425 Num episodes: 50\n",
            "Mean reward: -12.3575 Num episodes: 50\n",
            "Mean reward: -12.31 Num episodes: 50\n",
            "Mean reward: -11.9025 Num episodes: 50\n",
            "Mean reward: -12.32 Num episodes: 50\n",
            "Mean reward: -12.3475 Num episodes: 50\n",
            "Mean reward: -12.7975 Num episodes: 50\n",
            "Mean reward: -12.365 Num episodes: 50\n",
            "Mean reward: -12.285 Num episodes: 50\n",
            "Mean reward: -12.325 Num episodes: 50\n",
            "Mean reward: -12.325 Num episodes: 50\n",
            "Mean reward: -12.16 Num episodes: 50\n",
            "Mean reward: -12.5 Num episodes: 50\n",
            "Mean reward: -12.2725 Num episodes: 50\n",
            "Mean reward: -12.0225 Num episodes: 50\n",
            "Mean reward: -12.1575 Num episodes: 50\n",
            "Mean reward: -12.315 Num episodes: 50\n",
            "Mean reward: -12.3725 Num episodes: 50\n",
            "Mean reward: -12.4525 Num episodes: 50\n",
            "Mean reward: -12.115 Num episodes: 50\n",
            "Mean reward: -11.84 Num episodes: 50\n",
            "Mean reward: -12.2375 Num episodes: 50\n",
            "Mean reward: -12.4275 Num episodes: 50\n",
            "Mean reward: -12.315 Num episodes: 50\n",
            "Mean reward: -11.885 Num episodes: 50\n",
            "Mean reward: -12.4325 Num episodes: 50\n",
            "Mean reward: -12.17 Num episodes: 50\n",
            "Mean reward: -12.18 Num episodes: 50\n",
            "Mean reward: -12.215 Num episodes: 50\n"
          ],
          "name": "stdout"
        }
      ]
    },
    {
      "cell_type": "code",
      "metadata": {
        "colab": {
          "base_uri": "https://localhost:8080/"
        },
        "id": "F72N7RBTSia3",
        "outputId": "3618ca83-3983-4b15-9121-ddad8dc3e460"
      },
      "source": [
        "reward3 = train_all(model3,num=5)"
      ],
      "execution_count": 73,
      "outputs": [
        {
          "output_type": "stream",
          "text": [
            "Mean reward: -12.5475 Num episodes: 50\n",
            "Mean reward: -10.655 Num episodes: 50\n",
            "Mean reward: -11.2575 Num episodes: 50\n",
            "Mean reward: -11.96 Num episodes: 50\n",
            "Mean reward: -12.63 Num episodes: 50\n",
            "Mean reward: -11.2225 Num episodes: 50\n",
            "Mean reward: -10.2025 Num episodes: 50\n",
            "Mean reward: -10.5775 Num episodes: 50\n",
            "Mean reward: -9.92 Num episodes: 50\n",
            "Mean reward: -9.22 Num episodes: 50\n",
            "Mean reward: -9.23 Num episodes: 50\n",
            "Mean reward: -10.045 Num episodes: 50\n",
            "Mean reward: -10.02 Num episodes: 50\n",
            "Mean reward: -11.605 Num episodes: 50\n",
            "Mean reward: -12.6675 Num episodes: 50\n",
            "Mean reward: -13.8 Num episodes: 50\n",
            "Mean reward: -13.67 Num episodes: 50\n",
            "Mean reward: -12.32 Num episodes: 50\n",
            "Mean reward: -12.595 Num episodes: 50\n",
            "Mean reward: -12.9475 Num episodes: 50\n",
            "Mean reward: -12.98 Num episodes: 50\n",
            "Mean reward: -12.885 Num episodes: 50\n",
            "Mean reward: -13.4425 Num episodes: 50\n",
            "Mean reward: -13.215 Num episodes: 50\n",
            "Mean reward: -13.1675 Num episodes: 50\n",
            "Mean reward: -13.195 Num episodes: 50\n",
            "Mean reward: -13.28 Num episodes: 50\n",
            "Mean reward: -13.45 Num episodes: 50\n",
            "Mean reward: -13.385 Num episodes: 50\n",
            "Mean reward: -13.4475 Num episodes: 50\n",
            "Mean reward: -13.345 Num episodes: 50\n",
            "Mean reward: -13.3875 Num episodes: 50\n",
            "Mean reward: -13.5 Num episodes: 50\n",
            "Mean reward: -13.5725 Num episodes: 50\n",
            "Mean reward: -13.51 Num episodes: 50\n",
            "Mean reward: -13.395 Num episodes: 50\n",
            "Mean reward: -13.355 Num episodes: 50\n",
            "Mean reward: -13.5275 Num episodes: 50\n",
            "Mean reward: -13.165 Num episodes: 50\n",
            "Mean reward: -13.265 Num episodes: 50\n",
            "Mean reward: -13.27 Num episodes: 50\n",
            "Mean reward: -13.11 Num episodes: 50\n",
            "Mean reward: -12.91 Num episodes: 50\n",
            "Mean reward: -12.8575 Num episodes: 50\n",
            "Mean reward: -13.285 Num episodes: 50\n",
            "Mean reward: -15.655 Num episodes: 50\n",
            "Mean reward: -15.4275 Num episodes: 50\n",
            "Mean reward: -16.5275 Num episodes: 50\n",
            "Mean reward: -14.85 Num episodes: 50\n",
            "Mean reward: -14.8325 Num episodes: 50\n",
            "Mean reward: -15.0975 Num episodes: 50\n"
          ],
          "name": "stdout"
        }
      ]
    },
    {
      "cell_type": "code",
      "metadata": {
        "colab": {
          "base_uri": "https://localhost:8080/"
        },
        "id": "w4uEtmQ4The1",
        "outputId": "e17b6fde-5981-422f-95b9-f41c1b476065"
      },
      "source": [
        "reward4 = train_all(model4,num=5)"
      ],
      "execution_count": 77,
      "outputs": [
        {
          "output_type": "stream",
          "text": [
            "Mean reward: -12.1575 Num episodes: 50\n",
            "Mean reward: -12.15 Num episodes: 50\n",
            "Mean reward: -11.9625 Num episodes: 50\n",
            "Mean reward: -12.1475 Num episodes: 50\n",
            "Mean reward: -11.9125 Num episodes: 50\n",
            "Mean reward: -11.9 Num episodes: 50\n",
            "Mean reward: -12.1525 Num episodes: 50\n",
            "Mean reward: -11.865 Num episodes: 50\n",
            "Mean reward: -11.7875 Num episodes: 50\n",
            "Mean reward: -12.11 Num episodes: 50\n",
            "Mean reward: -12.5925 Num episodes: 50\n",
            "Mean reward: -12.21 Num episodes: 50\n",
            "Mean reward: -11.885 Num episodes: 50\n",
            "Mean reward: -12.3 Num episodes: 50\n",
            "Mean reward: -12.11 Num episodes: 50\n",
            "Mean reward: -12.18 Num episodes: 50\n",
            "Mean reward: -12.59 Num episodes: 50\n",
            "Mean reward: -12.6125 Num episodes: 50\n",
            "Mean reward: -12.015 Num episodes: 50\n",
            "Mean reward: -12.61 Num episodes: 50\n",
            "Mean reward: -12.5475 Num episodes: 50\n",
            "Mean reward: -12.125 Num episodes: 50\n",
            "Mean reward: -12.535 Num episodes: 50\n",
            "Mean reward: -12.925 Num episodes: 50\n",
            "Mean reward: -12.27 Num episodes: 50\n",
            "Mean reward: -12.5425 Num episodes: 50\n",
            "Mean reward: -12.4875 Num episodes: 50\n",
            "Mean reward: -12.5875 Num episodes: 50\n",
            "Mean reward: -12.7375 Num episodes: 50\n",
            "Mean reward: -12.61 Num episodes: 50\n",
            "Mean reward: -12.4725 Num episodes: 50\n",
            "Mean reward: -12.4575 Num episodes: 50\n",
            "Mean reward: -12.3 Num episodes: 50\n",
            "Mean reward: -12.845 Num episodes: 50\n",
            "Mean reward: -12.6975 Num episodes: 50\n",
            "Mean reward: -12.29 Num episodes: 50\n",
            "Mean reward: -12.3775 Num episodes: 50\n",
            "Mean reward: -12.1775 Num episodes: 50\n",
            "Mean reward: -12.975 Num episodes: 50\n",
            "Mean reward: -12.6 Num episodes: 50\n",
            "Mean reward: -12.5675 Num episodes: 50\n",
            "Mean reward: -12.815 Num episodes: 50\n",
            "Mean reward: -12.68 Num episodes: 50\n",
            "Mean reward: -12.68 Num episodes: 50\n",
            "Mean reward: -12.8375 Num episodes: 50\n",
            "Mean reward: -12.4625 Num episodes: 50\n",
            "Mean reward: -12.7525 Num episodes: 50\n",
            "Mean reward: -12.63 Num episodes: 50\n",
            "Mean reward: -12.495 Num episodes: 50\n",
            "Mean reward: -12.5075 Num episodes: 50\n",
            "Mean reward: -12.625 Num episodes: 50\n"
          ],
          "name": "stdout"
        }
      ]
    },
    {
      "cell_type": "code",
      "metadata": {
        "colab": {
          "base_uri": "https://localhost:8080/"
        },
        "id": "0elEc3cBUX4r",
        "outputId": "53113c27-e4e2-4c66-b41e-05614ebf6562"
      },
      "source": [
        "reward5 = train_all(model5,num=5)"
      ],
      "execution_count": 80,
      "outputs": [
        {
          "output_type": "stream",
          "text": [
            "Mean reward: -10.9075 Num episodes: 50\n",
            "Mean reward: -11.1325 Num episodes: 50\n",
            "Mean reward: -10.215 Num episodes: 50\n",
            "Mean reward: -10.825 Num episodes: 50\n",
            "Mean reward: -11.3625 Num episodes: 50\n",
            "Mean reward: -10.3 Num episodes: 50\n",
            "Mean reward: -10.4525 Num episodes: 50\n",
            "Mean reward: -10.7975 Num episodes: 50\n",
            "Mean reward: -10.955 Num episodes: 50\n",
            "Mean reward: -10.5075 Num episodes: 50\n",
            "Mean reward: -11.3225 Num episodes: 50\n",
            "Mean reward: -10.895 Num episodes: 50\n",
            "Mean reward: -10.9975 Num episodes: 50\n",
            "Mean reward: -11.235 Num episodes: 50\n",
            "Mean reward: -11.0425 Num episodes: 50\n",
            "Mean reward: -11.75 Num episodes: 50\n",
            "Mean reward: -10.6675 Num episodes: 50\n",
            "Mean reward: -11.41 Num episodes: 50\n",
            "Mean reward: -10.845 Num episodes: 50\n",
            "Mean reward: -11.2575 Num episodes: 50\n",
            "Mean reward: -11.49 Num episodes: 50\n",
            "Mean reward: -12.13 Num episodes: 50\n",
            "Mean reward: -11.1325 Num episodes: 50\n",
            "Mean reward: -11.5075 Num episodes: 50\n",
            "Mean reward: -11.085 Num episodes: 50\n",
            "Mean reward: -10.745 Num episodes: 50\n",
            "Mean reward: -11.2775 Num episodes: 50\n",
            "Mean reward: -11.695 Num episodes: 50\n",
            "Mean reward: -11.1325 Num episodes: 50\n",
            "Mean reward: -11.59 Num episodes: 50\n",
            "Mean reward: -11.2475 Num episodes: 50\n",
            "Mean reward: -10.985 Num episodes: 50\n",
            "Mean reward: -10.9025 Num episodes: 50\n",
            "Mean reward: -11.1325 Num episodes: 50\n",
            "Mean reward: -10.9625 Num episodes: 50\n",
            "Mean reward: -10.97 Num episodes: 50\n",
            "Mean reward: -11.2225 Num episodes: 50\n",
            "Mean reward: -11.4275 Num episodes: 50\n",
            "Mean reward: -11.1575 Num episodes: 50\n",
            "Mean reward: -11.335 Num episodes: 50\n",
            "Mean reward: -11.3725 Num episodes: 50\n",
            "Mean reward: -10.9425 Num episodes: 50\n",
            "Mean reward: -11.4025 Num episodes: 50\n",
            "Mean reward: -10.895 Num episodes: 50\n",
            "Mean reward: -10.9975 Num episodes: 50\n",
            "Mean reward: -11.0725 Num episodes: 50\n",
            "Mean reward: -10.9225 Num episodes: 50\n",
            "Mean reward: -11.25 Num episodes: 50\n",
            "Mean reward: -11.245 Num episodes: 50\n",
            "Mean reward: -11.6125 Num episodes: 50\n",
            "Mean reward: -11.305 Num episodes: 50\n"
          ],
          "name": "stdout"
        }
      ]
    },
    {
      "cell_type": "code",
      "metadata": {
        "colab": {
          "base_uri": "https://localhost:8080/"
        },
        "id": "4fmzgSVlVcvE",
        "outputId": "d15de51c-7e1e-4ac9-e884-0cb6aef14fc2"
      },
      "source": [
        "reward6= train_all(model6,num=5)"
      ],
      "execution_count": 85,
      "outputs": [
        {
          "output_type": "stream",
          "text": [
            "Mean reward: -11.39 Num episodes: 50\n",
            "Mean reward: -11.3275 Num episodes: 50\n",
            "Mean reward: -11.485 Num episodes: 50\n",
            "Mean reward: -11.0725 Num episodes: 50\n",
            "Mean reward: -10.97 Num episodes: 50\n",
            "Mean reward: -11.8525 Num episodes: 50\n",
            "Mean reward: -10.845 Num episodes: 50\n",
            "Mean reward: -11.005 Num episodes: 50\n",
            "Mean reward: -11.2725 Num episodes: 50\n",
            "Mean reward: -10.8025 Num episodes: 50\n",
            "Mean reward: -11.505 Num episodes: 50\n",
            "Mean reward: -11.1025 Num episodes: 50\n",
            "Mean reward: -11.9375 Num episodes: 50\n",
            "Mean reward: -11.8075 Num episodes: 50\n",
            "Mean reward: -11.585 Num episodes: 50\n",
            "Mean reward: -10.4675 Num episodes: 50\n",
            "Mean reward: -11.395 Num episodes: 50\n",
            "Mean reward: -11.6425 Num episodes: 50\n",
            "Mean reward: -11.4725 Num episodes: 50\n",
            "Mean reward: -11.12 Num episodes: 50\n",
            "Mean reward: -10.935 Num episodes: 50\n",
            "Mean reward: -10.54 Num episodes: 50\n",
            "Mean reward: -11.0575 Num episodes: 50\n",
            "Mean reward: -11.51 Num episodes: 50\n",
            "Mean reward: -10.7675 Num episodes: 50\n",
            "Mean reward: -11.1225 Num episodes: 50\n",
            "Mean reward: -10.7175 Num episodes: 50\n",
            "Mean reward: -10.565 Num episodes: 50\n",
            "Mean reward: -11.13 Num episodes: 50\n",
            "Mean reward: -9.905 Num episodes: 50\n",
            "Mean reward: -10.645 Num episodes: 50\n",
            "Mean reward: -10.57 Num episodes: 50\n",
            "Mean reward: -10.77 Num episodes: 50\n",
            "Mean reward: -10.33 Num episodes: 50\n",
            "Mean reward: -11.035 Num episodes: 50\n",
            "Mean reward: -10.5375 Num episodes: 50\n",
            "Mean reward: -10.5975 Num episodes: 50\n",
            "Mean reward: -11.2225 Num episodes: 50\n",
            "Mean reward: -11.08 Num episodes: 50\n",
            "Mean reward: -10.725 Num episodes: 50\n",
            "Mean reward: -10.69 Num episodes: 50\n",
            "Mean reward: -11.165 Num episodes: 50\n",
            "Mean reward: -10.4875 Num episodes: 50\n",
            "Mean reward: -10.57 Num episodes: 50\n",
            "Mean reward: -11.42 Num episodes: 50\n",
            "Mean reward: -11.09 Num episodes: 50\n",
            "Mean reward: -10.7 Num episodes: 50\n",
            "Mean reward: -11.37 Num episodes: 50\n",
            "Mean reward: -10.3375 Num episodes: 50\n",
            "Mean reward: -10.645 Num episodes: 50\n",
            "Mean reward: -11.3225 Num episodes: 50\n"
          ],
          "name": "stdout"
        }
      ]
    },
    {
      "cell_type": "code",
      "metadata": {
        "id": "aLMrnaAMV73s"
      },
      "source": [
        "rewards=[]\n",
        "rewards.append(reward1)\n",
        "rewards.append(reward2)\n",
        "rewards.append(reward3)\n",
        "rewards.append(reward4)\n",
        "rewards.append(reward5)\n",
        "rewards.append(reward6)\n"
      ],
      "execution_count": 87,
      "outputs": []
    },
    {
      "cell_type": "code",
      "metadata": {
        "colab": {
          "base_uri": "https://localhost:8080/",
          "height": 265
        },
        "id": "DgPrMGv3N_hR",
        "outputId": "7f6c3b8d-c189-4ab3-9ed7-54e7ae964b6a"
      },
      "source": [
        "reward_plot_all(rewards)"
      ],
      "execution_count": 88,
      "outputs": [
        {
          "output_type": "display_data",
          "data": {
            "image/png": "[encoded data removed]",
            "text/plain": [
              "<Figure size 432x288 with 1 Axes>"
            ]
          },
          "metadata": {
            "tags": []
          }
        }
      ]
    }
  ]
}