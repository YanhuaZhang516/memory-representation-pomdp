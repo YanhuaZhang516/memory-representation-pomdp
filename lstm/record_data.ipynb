{
  "nbformat": 4,
  "nbformat_minor": 0,
  "metadata": {
    "colab": {
      "name": "record_data.ipynb",
      "provenance": [],
      "authorship_tag": "ABX9TyOooro9lYta55yK9uCF3ZbR",
      "include_colab_link": true
    },
    "kernelspec": {
      "name": "python3",
      "display_name": "Python 3"
    }
  },
  "cells": [
    {
      "cell_type": "markdown",
      "metadata": {
        "id": "view-in-github",
        "colab_type": "text"
      },
      "source": [
        "<a href=\"https://colab.research.google.com/github/YanhuaZhang516/memory-representation-pomdp/blob/main/record_data.ipynb\" target=\"_parent\"><img src=\"https://colab.research.google.com/assets/colab-badge.svg\" alt=\"Open In Colab\"/></a>"
      ]
    },
    {
      "cell_type": "code",
      "metadata": {
        "id": "0N1SI2QPY7Pp"
      },
      "source": [
        "import pandas as pd\r\n",
        "import numpy as np"
      ],
      "execution_count": null,
      "outputs": []
    },
    {
      "cell_type": "code",
      "metadata": {
        "id": "FXAwkH9IZAsT"
      },
      "source": [
        "from gridworldRNN import *"
      ],
      "execution_count": null,
      "outputs": []
    },
    {
      "cell_type": "code",
      "metadata": {
        "id": "KC92LC9yZS-z"
      },
      "source": [
        "    env = GridWorldEnvRnn(n_width=7, n_height=7, u_size=60, default_type=0, max_episode_steps=100,default_reward=-1)\r\n",
        "    env.start=(2,2)\r\n",
        "    env.end = (5,5)\r\n",
        "    env.refresh_setting()\r\n"
      ],
      "execution_count": null,
      "outputs": []
    },
    {
      "cell_type": "code",
      "metadata": {
        "id": "mbuxdz-BIdqA"
      },
      "source": [
        "def generate_trajectory():\r\n",
        "\r\n",
        "  # each trajectory includes 250 timesteps\r\n",
        "    initial_obs, initial_state = env.reset()\r\n",
        "\r\n",
        "    #env.print_obs()\r\n",
        "    list_inputs = [initial_obs]\r\n",
        "    list_states = [initial_state]\r\n",
        "\r\n",
        "    for _ in range(249):\r\n",
        "        a = env.action_space.sample()\r\n",
        "        obs, reward, isdone, info = env.step(a)\r\n",
        "        #print(\"{0},{1},{2},{3}\".format(obs, a, reward, isdone))\r\n",
        "        list_inputs.append(obs)\r\n",
        "        list_states.append(info[\"state\"])\r\n",
        "    \r\n",
        "    return list_inputs, list_states\r\n",
        "    "
      ],
      "execution_count": null,
      "outputs": []
    },
    {
      "cell_type": "code",
      "metadata": {
        "id": "Rfn7qyL4Zf_l"
      },
      "source": [
        "def generate_data(num):\r\n",
        "\r\n",
        "  list_inputs, list_states = generate_trajectory()\r\n",
        "  df = pd.DataFrame(data={'trajectory':[1 for j in range(len(list_inputs))],'inputs':list_inputs, 'state':list_states},\r\n",
        "                  index=[t for t in range(len(list_inputs))])\r\n",
        "  for i in range(num-1):\r\n",
        "    list_inputs, list_states = generate_trajectory()\r\n",
        "    df1 = pd.DataFrame(data={'trajectory':[(i+2) for j in range(len(list_inputs))],'inputs':list_inputs, 'state':list_states},\r\n",
        "                  index=[t for t in range(len(list_inputs))])\r\n",
        "    df=pd.concat([df,df1])\r\n",
        "  \r\n",
        "  return df\r\n"
      ],
      "execution_count": null,
      "outputs": []
    },
    {
      "cell_type": "code",
      "metadata": {
        "id": "LMkrwEJhZlWH"
      },
      "source": [
        "df_csv=generate_data(100)\r\n",
        "df_csv.to_csv('trajectory_10_grids.csv')"
      ],
      "execution_count": null,
      "outputs": []
    },
    {
      "cell_type": "code",
      "metadata": {
        "id": "Fwp2D59Qt8Mp"
      },
      "source": [
        "traj_1 = df.loc[df['trajectory']==1]\r\n",
        "traj_2 = df.loc[df['trajectory']==2]"
      ],
      "execution_count": null,
      "outputs": []
    },
    {
      "cell_type": "code",
      "metadata": {
        "colab": {
          "base_uri": "https://localhost:8080/"
        },
        "id": "ZEWAnDEvuAk9",
        "outputId": "f8902a5d-0547-4908-8d8f-2a6d83ab5429"
      },
      "source": [
        "print(traj_1['state'][1])\r\n",
        "print(traj_2['state'][1])"
      ],
      "execution_count": null,
      "outputs": [
        {
          "output_type": "stream",
          "text": [
            "16\n",
            "9\n"
          ],
          "name": "stdout"
        }
      ]
    }
  ]
}